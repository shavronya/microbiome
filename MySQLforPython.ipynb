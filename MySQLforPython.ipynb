{
 "cells": [
  {
   "cell_type": "code",
   "execution_count": 42,
   "id": "2bebb061-c4fc-4d6b-817a-54ef73d27cd6",
   "metadata": {},
   "outputs": [],
   "source": [
    "import pandas as pd\n",
    "import mysql.connector"
   ]
  },
  {
   "cell_type": "code",
   "execution_count": 43,
   "id": "892d7eab-4490-4286-9f03-6f22b1bdb2fc",
   "metadata": {},
   "outputs": [],
   "source": [
    "con = mysql.connector.connect(user='root', password='Password123#@!',\n",
    "                              host='127.0.0.1',\n",
    "                              database='microbiome',\n",
    "                              use_pure=False)"
   ]
  },
  {
   "cell_type": "code",
   "execution_count": 44,
   "id": "30007a98-acd5-43cf-a49d-5e598438398c",
   "metadata": {},
   "outputs": [],
   "source": [
    "query = (\"SELECT * FROM host\")"
   ]
  },
  {
   "cell_type": "code",
   "execution_count": 47,
   "id": "07be6aaf-ba2c-4e23-98c8-98fb26de8cb7",
   "metadata": {},
   "outputs": [
    {
     "name": "stderr",
     "output_type": "stream",
     "text": [
      "/tmp/ipykernel_611/2888095020.py:1: UserWarning: pandas only supports SQLAlchemy connectable (engine/connection) or database string URI or sqlite3 DBAPI2 connection. Other DBAPI2 objects are not tested. Please consider using SQLAlchemy.\n",
      "  result = pd.read_sql(query,con)\n"
     ]
    }
   ],
   "source": [
    "result = pd.read_sql(query,con)"
   ]
  },
  {
   "cell_type": "code",
   "execution_count": 46,
   "id": "a7c68764-9a82-409d-9f38-a984ff21d4a2",
   "metadata": {},
   "outputs": [
    {
     "name": "stderr",
     "output_type": "stream",
     "text": [
      "/tmp/ipykernel_611/471782569.py:6: UserWarning: pandas only supports SQLAlchemy connectable (engine/connection) or database string URI or sqlite3 DBAPI2 connection. Other DBAPI2 objects are not tested. Please consider using SQLAlchemy.\n",
      "  result_dataFrame = pd.read_sql(query,mydb)\n"
     ]
    }
   ],
   "source": [
    "\n",
    "    "
   ]
  },
  {
   "cell_type": "code",
   "execution_count": null,
   "id": "927a54e8-5be0-4d57-b225-d1e279ea1716",
   "metadata": {},
   "outputs": [],
   "source": []
  }
 ],
 "metadata": {
  "kernelspec": {
   "display_name": "Python 3 (ipykernel)",
   "language": "python",
   "name": "python3"
  },
  "language_info": {
   "codemirror_mode": {
    "name": "ipython",
    "version": 3
   },
   "file_extension": ".py",
   "mimetype": "text/x-python",
   "name": "python",
   "nbconvert_exporter": "python",
   "pygments_lexer": "ipython3",
   "version": "3.10.12"
  }
 },
 "nbformat": 4,
 "nbformat_minor": 5
}
